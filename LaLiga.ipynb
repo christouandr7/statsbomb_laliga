{
 "cells": [
  {
   "cell_type": "markdown",
   "metadata": {},
   "source": [
    "# Statsbomb - Spanish LaLiga - Andreas Christou"
   ]
  },
  {
   "cell_type": "code",
   "execution_count": 1,
   "metadata": {},
   "outputs": [],
   "source": [
    "import numpy as np\n",
    "import pandas as pd\n",
    "import numpy as np\n",
    "import glob\n",
    "import json\n",
    "import warnings\n",
    "warnings.filterwarnings('ignore')\n",
    "import matplotlib.pyplot as plt\n",
    "from IPython.display import display"
   ]
  },
  {
   "cell_type": "markdown",
   "metadata": {},
   "source": [
    "First, we want to determine the competition (La Liga) id from the competition.json file. So, we open the file, and we can see some records below, showing all the seasons in all the competitions containing in the file."
   ]
  },
  {
   "cell_type": "code",
   "execution_count": 2,
   "metadata": {},
   "outputs": [
    {
     "data": {
      "text/html": [
       "<div>\n",
       "<style scoped>\n",
       "    .dataframe tbody tr th:only-of-type {\n",
       "        vertical-align: middle;\n",
       "    }\n",
       "\n",
       "    .dataframe tbody tr th {\n",
       "        vertical-align: top;\n",
       "    }\n",
       "\n",
       "    .dataframe thead th {\n",
       "        text-align: right;\n",
       "    }\n",
       "</style>\n",
       "<table border=\"1\" class=\"dataframe\">\n",
       "  <thead>\n",
       "    <tr style=\"text-align: right;\">\n",
       "      <th></th>\n",
       "      <th>competition_id</th>\n",
       "      <th>season_id</th>\n",
       "      <th>country_name</th>\n",
       "      <th>competition_name</th>\n",
       "      <th>competition_gender</th>\n",
       "      <th>season_name</th>\n",
       "      <th>match_updated</th>\n",
       "      <th>match_available</th>\n",
       "    </tr>\n",
       "  </thead>\n",
       "  <tbody>\n",
       "    <tr>\n",
       "      <th>33</th>\n",
       "      <td>11</td>\n",
       "      <td>38</td>\n",
       "      <td>Spain</td>\n",
       "      <td>La Liga</td>\n",
       "      <td>male</td>\n",
       "      <td>2005/2006</td>\n",
       "      <td>2020-07-29T05:00</td>\n",
       "      <td>2020-07-29T05:00</td>\n",
       "    </tr>\n",
       "    <tr>\n",
       "      <th>34</th>\n",
       "      <td>11</td>\n",
       "      <td>37</td>\n",
       "      <td>Spain</td>\n",
       "      <td>La Liga</td>\n",
       "      <td>male</td>\n",
       "      <td>2004/2005</td>\n",
       "      <td>2020-07-29T05:00</td>\n",
       "      <td>2020-07-29T05:00</td>\n",
       "    </tr>\n",
       "    <tr>\n",
       "      <th>35</th>\n",
       "      <td>49</td>\n",
       "      <td>3</td>\n",
       "      <td>United States of America</td>\n",
       "      <td>NWSL</td>\n",
       "      <td>female</td>\n",
       "      <td>2018</td>\n",
       "      <td>2020-07-29T05:00</td>\n",
       "      <td>2020-07-29T05:00</td>\n",
       "    </tr>\n",
       "    <tr>\n",
       "      <th>36</th>\n",
       "      <td>2</td>\n",
       "      <td>44</td>\n",
       "      <td>England</td>\n",
       "      <td>Premier League</td>\n",
       "      <td>male</td>\n",
       "      <td>2003/2004</td>\n",
       "      <td>2020-08-31T20:40:28.969635</td>\n",
       "      <td>2020-08-31T20:40:28.969635</td>\n",
       "    </tr>\n",
       "    <tr>\n",
       "      <th>37</th>\n",
       "      <td>72</td>\n",
       "      <td>30</td>\n",
       "      <td>International</td>\n",
       "      <td>Women's World Cup</td>\n",
       "      <td>female</td>\n",
       "      <td>2019</td>\n",
       "      <td>2020-07-29T05:00</td>\n",
       "      <td>2020-07-29T05:00</td>\n",
       "    </tr>\n",
       "  </tbody>\n",
       "</table>\n",
       "</div>"
      ],
      "text/plain": [
       "    competition_id  season_id              country_name   competition_name  \\\n",
       "33              11         38                     Spain            La Liga   \n",
       "34              11         37                     Spain            La Liga   \n",
       "35              49          3  United States of America               NWSL   \n",
       "36               2         44                   England     Premier League   \n",
       "37              72         30             International  Women's World Cup   \n",
       "\n",
       "   competition_gender season_name               match_updated  \\\n",
       "33               male   2005/2006            2020-07-29T05:00   \n",
       "34               male   2004/2005            2020-07-29T05:00   \n",
       "35             female        2018            2020-07-29T05:00   \n",
       "36               male   2003/2004  2020-08-31T20:40:28.969635   \n",
       "37             female        2019            2020-07-29T05:00   \n",
       "\n",
       "               match_available  \n",
       "33            2020-07-29T05:00  \n",
       "34            2020-07-29T05:00  \n",
       "35            2020-07-29T05:00  \n",
       "36  2020-08-31T20:40:28.969635  \n",
       "37            2020-07-29T05:00  "
      ]
     },
     "execution_count": 2,
     "metadata": {},
     "output_type": "execute_result"
    }
   ],
   "source": [
    "competitions = pd.read_json(\"./data/competitions.json\")\n",
    "competitions.tail()"
   ]
  },
  {
   "cell_type": "markdown",
   "metadata": {},
   "source": [
    "We use the competition_id exported from above, and we go to this folder. Then we read all the matches played in La Liga and we insert them in a dataframe. Some details for each match can be seen below."
   ]
  },
  {
   "cell_type": "code",
   "execution_count": 3,
   "metadata": {},
   "outputs": [
    {
     "data": {
      "text/html": [
       "<div>\n",
       "<style scoped>\n",
       "    .dataframe tbody tr th:only-of-type {\n",
       "        vertical-align: middle;\n",
       "    }\n",
       "\n",
       "    .dataframe tbody tr th {\n",
       "        vertical-align: top;\n",
       "    }\n",
       "\n",
       "    .dataframe thead th {\n",
       "        text-align: right;\n",
       "    }\n",
       "</style>\n",
       "<table border=\"1\" class=\"dataframe\">\n",
       "  <thead>\n",
       "    <tr style=\"text-align: right;\">\n",
       "      <th></th>\n",
       "      <th>match_id</th>\n",
       "      <th>match_date</th>\n",
       "      <th>kick_off</th>\n",
       "      <th>home_score</th>\n",
       "      <th>away_score</th>\n",
       "      <th>match_status</th>\n",
       "      <th>last_updated</th>\n",
       "      <th>match_week</th>\n",
       "      <th>competition.competition_id</th>\n",
       "      <th>competition.country_name</th>\n",
       "      <th>competition.competition_name</th>\n",
       "      <th>season.season_id</th>\n",
       "      <th>season.season_name</th>\n",
       "      <th>home_team.home_team_id</th>\n",
       "      <th>home_team.home_team_name</th>\n",
       "      <th>home_team.home_team_gender</th>\n",
       "      <th>home_team.home_team_group</th>\n",
       "      <th>home_team.country.id</th>\n",
       "      <th>home_team.country.name</th>\n",
       "      <th>home_team.managers</th>\n",
       "      <th>away_team.away_team_id</th>\n",
       "      <th>away_team.away_team_name</th>\n",
       "      <th>away_team.away_team_gender</th>\n",
       "      <th>away_team.away_team_group</th>\n",
       "      <th>away_team.country.id</th>\n",
       "      <th>away_team.country.name</th>\n",
       "      <th>away_team.managers</th>\n",
       "      <th>metadata.data_version</th>\n",
       "      <th>metadata.shot_fidelity_version</th>\n",
       "      <th>metadata.xy_fidelity_version</th>\n",
       "      <th>competition_stage.id</th>\n",
       "      <th>competition_stage.name</th>\n",
       "      <th>stadium.id</th>\n",
       "      <th>stadium.name</th>\n",
       "      <th>stadium.country.id</th>\n",
       "      <th>stadium.country.name</th>\n",
       "      <th>referee.id</th>\n",
       "      <th>referee.name</th>\n",
       "      <th>referee.country.id</th>\n",
       "      <th>referee.country.name</th>\n",
       "    </tr>\n",
       "  </thead>\n",
       "  <tbody>\n",
       "    <tr>\n",
       "      <th>0</th>\n",
       "      <td>69225</td>\n",
       "      <td>2008-12-13</td>\n",
       "      <td>22:00:00.000</td>\n",
       "      <td>2</td>\n",
       "      <td>0</td>\n",
       "      <td>available</td>\n",
       "      <td>2020-07-29T05:00</td>\n",
       "      <td>15</td>\n",
       "      <td>11</td>\n",
       "      <td>Spain</td>\n",
       "      <td>La Liga</td>\n",
       "      <td>41</td>\n",
       "      <td>2008/2009</td>\n",
       "      <td>217</td>\n",
       "      <td>Barcelona</td>\n",
       "      <td>male</td>\n",
       "      <td>None</td>\n",
       "      <td>214</td>\n",
       "      <td>Spain</td>\n",
       "      <td>[{'id': 36, 'name': 'Josep Guardiola i Sala', ...</td>\n",
       "      <td>220</td>\n",
       "      <td>Real Madrid</td>\n",
       "      <td>male</td>\n",
       "      <td>None</td>\n",
       "      <td>214</td>\n",
       "      <td>Spain</td>\n",
       "      <td>[{'id': 3899, 'name': 'Juan de la Cruz Ramos C...</td>\n",
       "      <td>1.1.0</td>\n",
       "      <td>2</td>\n",
       "      <td>2</td>\n",
       "      <td>1</td>\n",
       "      <td>Regular Season</td>\n",
       "      <td>342.0</td>\n",
       "      <td>Camp Nou</td>\n",
       "      <td>214.0</td>\n",
       "      <td>Spain</td>\n",
       "      <td>1011.0</td>\n",
       "      <td>Luis Medina Cantalejo</td>\n",
       "      <td>NaN</td>\n",
       "      <td>NaN</td>\n",
       "    </tr>\n",
       "    <tr>\n",
       "      <th>1</th>\n",
       "      <td>69212</td>\n",
       "      <td>2008-10-04</td>\n",
       "      <td>22:00:00.000</td>\n",
       "      <td>6</td>\n",
       "      <td>1</td>\n",
       "      <td>available</td>\n",
       "      <td>2020-07-29T05:00</td>\n",
       "      <td>6</td>\n",
       "      <td>11</td>\n",
       "      <td>Spain</td>\n",
       "      <td>La Liga</td>\n",
       "      <td>41</td>\n",
       "      <td>2008/2009</td>\n",
       "      <td>217</td>\n",
       "      <td>Barcelona</td>\n",
       "      <td>male</td>\n",
       "      <td>None</td>\n",
       "      <td>214</td>\n",
       "      <td>Spain</td>\n",
       "      <td>[{'id': 36, 'name': 'Josep Guardiola i Sala', ...</td>\n",
       "      <td>212</td>\n",
       "      <td>Atlético Madrid</td>\n",
       "      <td>male</td>\n",
       "      <td>None</td>\n",
       "      <td>214</td>\n",
       "      <td>Spain</td>\n",
       "      <td>[{'id': 3196, 'name': 'Javier Aguirre Onaindía...</td>\n",
       "      <td>1.1.0</td>\n",
       "      <td>2</td>\n",
       "      <td>2</td>\n",
       "      <td>1</td>\n",
       "      <td>Regular Season</td>\n",
       "      <td>342.0</td>\n",
       "      <td>Camp Nou</td>\n",
       "      <td>214.0</td>\n",
       "      <td>Spain</td>\n",
       "      <td>1070.0</td>\n",
       "      <td>Iturralde</td>\n",
       "      <td>NaN</td>\n",
       "      <td>NaN</td>\n",
       "    </tr>\n",
       "    <tr>\n",
       "      <th>2</th>\n",
       "      <td>69235</td>\n",
       "      <td>2008-11-01</td>\n",
       "      <td>20:00:00.000</td>\n",
       "      <td>1</td>\n",
       "      <td>4</td>\n",
       "      <td>available</td>\n",
       "      <td>2020-07-29T05:00</td>\n",
       "      <td>9</td>\n",
       "      <td>11</td>\n",
       "      <td>Spain</td>\n",
       "      <td>La Liga</td>\n",
       "      <td>41</td>\n",
       "      <td>2008/2009</td>\n",
       "      <td>223</td>\n",
       "      <td>Málaga</td>\n",
       "      <td>male</td>\n",
       "      <td>None</td>\n",
       "      <td>214</td>\n",
       "      <td>Spain</td>\n",
       "      <td>NaN</td>\n",
       "      <td>217</td>\n",
       "      <td>Barcelona</td>\n",
       "      <td>male</td>\n",
       "      <td>None</td>\n",
       "      <td>214</td>\n",
       "      <td>Spain</td>\n",
       "      <td>NaN</td>\n",
       "      <td>1.1.0</td>\n",
       "      <td>2</td>\n",
       "      <td>2</td>\n",
       "      <td>1</td>\n",
       "      <td>Regular Season</td>\n",
       "      <td>346.0</td>\n",
       "      <td>Estadio La Rosaleda</td>\n",
       "      <td>214.0</td>\n",
       "      <td>Spain</td>\n",
       "      <td>407.0</td>\n",
       "      <td>Carlos Velasco Carballo</td>\n",
       "      <td>214.0</td>\n",
       "      <td>Spain</td>\n",
       "    </tr>\n",
       "    <tr>\n",
       "      <th>3</th>\n",
       "      <td>69232</td>\n",
       "      <td>2008-10-25</td>\n",
       "      <td>22:00:00.000</td>\n",
       "      <td>5</td>\n",
       "      <td>0</td>\n",
       "      <td>available</td>\n",
       "      <td>2020-07-29T05:00</td>\n",
       "      <td>8</td>\n",
       "      <td>11</td>\n",
       "      <td>Spain</td>\n",
       "      <td>La Liga</td>\n",
       "      <td>41</td>\n",
       "      <td>2008/2009</td>\n",
       "      <td>217</td>\n",
       "      <td>Barcelona</td>\n",
       "      <td>male</td>\n",
       "      <td>None</td>\n",
       "      <td>214</td>\n",
       "      <td>Spain</td>\n",
       "      <td>NaN</td>\n",
       "      <td>403</td>\n",
       "      <td>Almería</td>\n",
       "      <td>male</td>\n",
       "      <td>None</td>\n",
       "      <td>214</td>\n",
       "      <td>Spain</td>\n",
       "      <td>NaN</td>\n",
       "      <td>1.1.0</td>\n",
       "      <td>2</td>\n",
       "      <td>2</td>\n",
       "      <td>1</td>\n",
       "      <td>Regular Season</td>\n",
       "      <td>342.0</td>\n",
       "      <td>Camp Nou</td>\n",
       "      <td>214.0</td>\n",
       "      <td>Spain</td>\n",
       "      <td>1007.0</td>\n",
       "      <td>Alfonso Perez Burrull</td>\n",
       "      <td>NaN</td>\n",
       "      <td>NaN</td>\n",
       "    </tr>\n",
       "    <tr>\n",
       "      <th>4</th>\n",
       "      <td>69216</td>\n",
       "      <td>2009-03-07</td>\n",
       "      <td>20:00:00.000</td>\n",
       "      <td>2</td>\n",
       "      <td>0</td>\n",
       "      <td>available</td>\n",
       "      <td>2020-07-29T05:00</td>\n",
       "      <td>26</td>\n",
       "      <td>11</td>\n",
       "      <td>Spain</td>\n",
       "      <td>La Liga</td>\n",
       "      <td>41</td>\n",
       "      <td>2008/2009</td>\n",
       "      <td>217</td>\n",
       "      <td>Barcelona</td>\n",
       "      <td>male</td>\n",
       "      <td>None</td>\n",
       "      <td>214</td>\n",
       "      <td>Spain</td>\n",
       "      <td>[{'id': 36, 'name': 'Josep Guardiola i Sala', ...</td>\n",
       "      <td>215</td>\n",
       "      <td>Athletic Bilbao</td>\n",
       "      <td>male</td>\n",
       "      <td>None</td>\n",
       "      <td>214</td>\n",
       "      <td>Spain</td>\n",
       "      <td>[{'id': 497, 'name': 'Joaquín de Jesús Caparró...</td>\n",
       "      <td>1.1.0</td>\n",
       "      <td>2</td>\n",
       "      <td>2</td>\n",
       "      <td>1</td>\n",
       "      <td>Regular Season</td>\n",
       "      <td>342.0</td>\n",
       "      <td>Camp Nou</td>\n",
       "      <td>214.0</td>\n",
       "      <td>Spain</td>\n",
       "      <td>221.0</td>\n",
       "      <td>Alberto Undiano</td>\n",
       "      <td>112.0</td>\n",
       "      <td>Italy</td>\n",
       "    </tr>\n",
       "  </tbody>\n",
       "</table>\n",
       "</div>"
      ],
      "text/plain": [
       "   match_id  match_date      kick_off  home_score  away_score match_status  \\\n",
       "0     69225  2008-12-13  22:00:00.000           2           0    available   \n",
       "1     69212  2008-10-04  22:00:00.000           6           1    available   \n",
       "2     69235  2008-11-01  20:00:00.000           1           4    available   \n",
       "3     69232  2008-10-25  22:00:00.000           5           0    available   \n",
       "4     69216  2009-03-07  20:00:00.000           2           0    available   \n",
       "\n",
       "       last_updated  match_week  competition.competition_id  \\\n",
       "0  2020-07-29T05:00          15                          11   \n",
       "1  2020-07-29T05:00           6                          11   \n",
       "2  2020-07-29T05:00           9                          11   \n",
       "3  2020-07-29T05:00           8                          11   \n",
       "4  2020-07-29T05:00          26                          11   \n",
       "\n",
       "  competition.country_name competition.competition_name  season.season_id  \\\n",
       "0                    Spain                      La Liga                41   \n",
       "1                    Spain                      La Liga                41   \n",
       "2                    Spain                      La Liga                41   \n",
       "3                    Spain                      La Liga                41   \n",
       "4                    Spain                      La Liga                41   \n",
       "\n",
       "  season.season_name  home_team.home_team_id home_team.home_team_name  \\\n",
       "0          2008/2009                     217                Barcelona   \n",
       "1          2008/2009                     217                Barcelona   \n",
       "2          2008/2009                     223                   Málaga   \n",
       "3          2008/2009                     217                Barcelona   \n",
       "4          2008/2009                     217                Barcelona   \n",
       "\n",
       "  home_team.home_team_gender home_team.home_team_group  home_team.country.id  \\\n",
       "0                       male                      None                   214   \n",
       "1                       male                      None                   214   \n",
       "2                       male                      None                   214   \n",
       "3                       male                      None                   214   \n",
       "4                       male                      None                   214   \n",
       "\n",
       "  home_team.country.name                                 home_team.managers  \\\n",
       "0                  Spain  [{'id': 36, 'name': 'Josep Guardiola i Sala', ...   \n",
       "1                  Spain  [{'id': 36, 'name': 'Josep Guardiola i Sala', ...   \n",
       "2                  Spain                                                NaN   \n",
       "3                  Spain                                                NaN   \n",
       "4                  Spain  [{'id': 36, 'name': 'Josep Guardiola i Sala', ...   \n",
       "\n",
       "   away_team.away_team_id away_team.away_team_name away_team.away_team_gender  \\\n",
       "0                     220              Real Madrid                       male   \n",
       "1                     212          Atlético Madrid                       male   \n",
       "2                     217                Barcelona                       male   \n",
       "3                     403                  Almería                       male   \n",
       "4                     215          Athletic Bilbao                       male   \n",
       "\n",
       "  away_team.away_team_group  away_team.country.id away_team.country.name  \\\n",
       "0                      None                   214                  Spain   \n",
       "1                      None                   214                  Spain   \n",
       "2                      None                   214                  Spain   \n",
       "3                      None                   214                  Spain   \n",
       "4                      None                   214                  Spain   \n",
       "\n",
       "                                  away_team.managers metadata.data_version  \\\n",
       "0  [{'id': 3899, 'name': 'Juan de la Cruz Ramos C...                 1.1.0   \n",
       "1  [{'id': 3196, 'name': 'Javier Aguirre Onaindía...                 1.1.0   \n",
       "2                                                NaN                 1.1.0   \n",
       "3                                                NaN                 1.1.0   \n",
       "4  [{'id': 497, 'name': 'Joaquín de Jesús Caparró...                 1.1.0   \n",
       "\n",
       "  metadata.shot_fidelity_version metadata.xy_fidelity_version  \\\n",
       "0                              2                            2   \n",
       "1                              2                            2   \n",
       "2                              2                            2   \n",
       "3                              2                            2   \n",
       "4                              2                            2   \n",
       "\n",
       "   competition_stage.id competition_stage.name  stadium.id  \\\n",
       "0                     1         Regular Season       342.0   \n",
       "1                     1         Regular Season       342.0   \n",
       "2                     1         Regular Season       346.0   \n",
       "3                     1         Regular Season       342.0   \n",
       "4                     1         Regular Season       342.0   \n",
       "\n",
       "          stadium.name  stadium.country.id stadium.country.name  referee.id  \\\n",
       "0             Camp Nou               214.0                Spain      1011.0   \n",
       "1             Camp Nou               214.0                Spain      1070.0   \n",
       "2  Estadio La Rosaleda               214.0                Spain       407.0   \n",
       "3             Camp Nou               214.0                Spain      1007.0   \n",
       "4             Camp Nou               214.0                Spain       221.0   \n",
       "\n",
       "              referee.name  referee.country.id referee.country.name  \n",
       "0    Luis Medina Cantalejo                 NaN                  NaN  \n",
       "1               Iturralde                  NaN                  NaN  \n",
       "2  Carlos Velasco Carballo               214.0                Spain  \n",
       "3    Alfonso Perez Burrull                 NaN                  NaN  \n",
       "4          Alberto Undiano               112.0                Italy  "
      ]
     },
     "metadata": {},
     "output_type": "display_data"
    }
   ],
   "source": [
    "#get La Liga competition\n",
    "laliga = competitions[competitions[\"competition_name\"].str.match(\"La Liga\")]\n",
    "laliga_id = laliga.iloc[1].competition_id\n",
    "\n",
    "#read all json files from the folder of competition La Liga and concatenate them\n",
    "path = \"./data/matches/{}/*.json\".format(laliga_id)\n",
    "all_files = glob.glob(path) #get all files in the folder\n",
    "la_liga_matches = pd.DataFrame() #empty dataframe\n",
    "\n",
    "#read all json files in the folder\n",
    "for f in all_files:\n",
    "    with open(f) as file: \n",
    "        data = json.load(file) #read json file\n",
    "        norm = pd.json_normalize(data) #read nested json\n",
    "        la_liga_matches = la_liga_matches.append(norm) #append to the matches dataframe the new matches read from this file\n",
    "\n",
    "la_liga_matches.index = range(la_liga_matches.shape[0]) #change index name\n",
    "pd.options.display.max_columns = None #option to show all columns in a jupyter notebook\n",
    "display(la_liga_matches.head())"
   ]
  },
  {
   "cell_type": "markdown",
   "metadata": {},
   "source": [
    "The dataframe contains 40 columns. Not all of them contain valuable information for the data analysis we want to do. So, we can take the attributes that we think that will give us some information to be analysed."
   ]
  },
  {
   "cell_type": "code",
   "execution_count": 4,
   "metadata": {},
   "outputs": [],
   "source": [
    "laliga_cleaned = la_liga_matches[[\"match_id\", \"match_date\", \"kick_off\", \"match_week\", \"season.season_name\", \"home_team.home_team_id\", \"home_team.home_team_name\", \"home_score\", \"away_score\", \"away_team.away_team_name\", \"away_team.away_team_id\", \"stadium.name\", \"referee.name\" ]]"
   ]
  },
  {
   "cell_type": "markdown",
   "metadata": {},
   "source": [
    "As one can see in the dataframe, we are given the home and away score for each match. To make our analysis easier, we choose to export the result for each match (home win, draw, or away win). When home team wins then the result is 1, when loses it is 2, and when we have a draw then the result is 'x'."
   ]
  },
  {
   "cell_type": "code",
   "execution_count": 5,
   "metadata": {},
   "outputs": [
    {
     "data": {
      "text/html": [
       "<div>\n",
       "<style scoped>\n",
       "    .dataframe tbody tr th:only-of-type {\n",
       "        vertical-align: middle;\n",
       "    }\n",
       "\n",
       "    .dataframe tbody tr th {\n",
       "        vertical-align: top;\n",
       "    }\n",
       "\n",
       "    .dataframe thead th {\n",
       "        text-align: right;\n",
       "    }\n",
       "</style>\n",
       "<table border=\"1\" class=\"dataframe\">\n",
       "  <thead>\n",
       "    <tr style=\"text-align: right;\">\n",
       "      <th></th>\n",
       "      <th>match_id</th>\n",
       "      <th>match_date</th>\n",
       "      <th>kick_off</th>\n",
       "      <th>match_week</th>\n",
       "      <th>season</th>\n",
       "      <th>home_team_id</th>\n",
       "      <th>home_team_name</th>\n",
       "      <th>home_score</th>\n",
       "      <th>away_score</th>\n",
       "      <th>away_team_name</th>\n",
       "      <th>away_team_id</th>\n",
       "      <th>stadium_name</th>\n",
       "      <th>referee_name</th>\n",
       "      <th>result</th>\n",
       "    </tr>\n",
       "  </thead>\n",
       "  <tbody>\n",
       "    <tr>\n",
       "      <th>0</th>\n",
       "      <td>69225</td>\n",
       "      <td>2008-12-13</td>\n",
       "      <td>22:00:00.000</td>\n",
       "      <td>15</td>\n",
       "      <td>2008/2009</td>\n",
       "      <td>217</td>\n",
       "      <td>Barcelona</td>\n",
       "      <td>2</td>\n",
       "      <td>0</td>\n",
       "      <td>Real Madrid</td>\n",
       "      <td>220</td>\n",
       "      <td>Camp Nou</td>\n",
       "      <td>Luis Medina Cantalejo</td>\n",
       "      <td>1</td>\n",
       "    </tr>\n",
       "    <tr>\n",
       "      <th>1</th>\n",
       "      <td>69212</td>\n",
       "      <td>2008-10-04</td>\n",
       "      <td>22:00:00.000</td>\n",
       "      <td>6</td>\n",
       "      <td>2008/2009</td>\n",
       "      <td>217</td>\n",
       "      <td>Barcelona</td>\n",
       "      <td>6</td>\n",
       "      <td>1</td>\n",
       "      <td>Atlético Madrid</td>\n",
       "      <td>212</td>\n",
       "      <td>Camp Nou</td>\n",
       "      <td>Iturralde</td>\n",
       "      <td>1</td>\n",
       "    </tr>\n",
       "    <tr>\n",
       "      <th>2</th>\n",
       "      <td>69235</td>\n",
       "      <td>2008-11-01</td>\n",
       "      <td>20:00:00.000</td>\n",
       "      <td>9</td>\n",
       "      <td>2008/2009</td>\n",
       "      <td>223</td>\n",
       "      <td>Málaga</td>\n",
       "      <td>1</td>\n",
       "      <td>4</td>\n",
       "      <td>Barcelona</td>\n",
       "      <td>217</td>\n",
       "      <td>Estadio La Rosaleda</td>\n",
       "      <td>Carlos Velasco Carballo</td>\n",
       "      <td>2</td>\n",
       "    </tr>\n",
       "    <tr>\n",
       "      <th>3</th>\n",
       "      <td>69232</td>\n",
       "      <td>2008-10-25</td>\n",
       "      <td>22:00:00.000</td>\n",
       "      <td>8</td>\n",
       "      <td>2008/2009</td>\n",
       "      <td>217</td>\n",
       "      <td>Barcelona</td>\n",
       "      <td>5</td>\n",
       "      <td>0</td>\n",
       "      <td>Almería</td>\n",
       "      <td>403</td>\n",
       "      <td>Camp Nou</td>\n",
       "      <td>Alfonso Perez Burrull</td>\n",
       "      <td>1</td>\n",
       "    </tr>\n",
       "    <tr>\n",
       "      <th>4</th>\n",
       "      <td>69216</td>\n",
       "      <td>2009-03-07</td>\n",
       "      <td>20:00:00.000</td>\n",
       "      <td>26</td>\n",
       "      <td>2008/2009</td>\n",
       "      <td>217</td>\n",
       "      <td>Barcelona</td>\n",
       "      <td>2</td>\n",
       "      <td>0</td>\n",
       "      <td>Athletic Bilbao</td>\n",
       "      <td>215</td>\n",
       "      <td>Camp Nou</td>\n",
       "      <td>Alberto Undiano</td>\n",
       "      <td>1</td>\n",
       "    </tr>\n",
       "  </tbody>\n",
       "</table>\n",
       "</div>"
      ],
      "text/plain": [
       "   match_id  match_date      kick_off  match_week     season  home_team_id  \\\n",
       "0     69225  2008-12-13  22:00:00.000          15  2008/2009           217   \n",
       "1     69212  2008-10-04  22:00:00.000           6  2008/2009           217   \n",
       "2     69235  2008-11-01  20:00:00.000           9  2008/2009           223   \n",
       "3     69232  2008-10-25  22:00:00.000           8  2008/2009           217   \n",
       "4     69216  2009-03-07  20:00:00.000          26  2008/2009           217   \n",
       "\n",
       "  home_team_name  home_score  away_score   away_team_name  away_team_id  \\\n",
       "0      Barcelona           2           0      Real Madrid           220   \n",
       "1      Barcelona           6           1  Atlético Madrid           212   \n",
       "2         Málaga           1           4        Barcelona           217   \n",
       "3      Barcelona           5           0          Almería           403   \n",
       "4      Barcelona           2           0  Athletic Bilbao           215   \n",
       "\n",
       "          stadium_name             referee_name result  \n",
       "0             Camp Nou    Luis Medina Cantalejo      1  \n",
       "1             Camp Nou               Iturralde       1  \n",
       "2  Estadio La Rosaleda  Carlos Velasco Carballo      2  \n",
       "3             Camp Nou    Alfonso Perez Burrull      1  \n",
       "4             Camp Nou          Alberto Undiano      1  "
      ]
     },
     "execution_count": 5,
     "metadata": {},
     "output_type": "execute_result"
    }
   ],
   "source": [
    "result = []\n",
    "#for each match export the result\n",
    "for i in range(laliga_cleaned.shape[0]):\n",
    "    if (laliga_cleaned.iloc[i].home_score > laliga_cleaned.iloc[i].away_score):\n",
    "        result.append(\"1\")\n",
    "    elif (laliga_cleaned.iloc[i].home_score < laliga_cleaned.iloc[i].away_score): \n",
    "        result.append(\"2\")\n",
    "    else:\n",
    "        result.append(\"x\")\n",
    "\n",
    "laliga_cleaned[\"result\"] = result #append the new \"results\" column to the dataframe\n",
    "laliga_cleaned.columns = [\"match_id\", \"match_date\", \"kick_off\", \"match_week\", \"season\", \"home_team_id\", \"home_team_name\", \"home_score\", \n",
    "                         \"away_score\", \"away_team_name\", \"away_team_id\", \"stadium_name\", \"referee_name\", \"result\"] #change column names\n",
    "laliga_cleaned.head()"
   ]
  },
  {
   "cell_type": "markdown",
   "metadata": {},
   "source": [
    "First, we want to see the nationalities of the managers that worked for La Liga teams in the last 16 seasons. "
   ]
  },
  {
   "cell_type": "code",
   "execution_count": 6,
   "metadata": {},
   "outputs": [
    {
     "data": {
      "text/html": [
       "<div>\n",
       "<style scoped>\n",
       "    .dataframe tbody tr th:only-of-type {\n",
       "        vertical-align: middle;\n",
       "    }\n",
       "\n",
       "    .dataframe tbody tr th {\n",
       "        vertical-align: top;\n",
       "    }\n",
       "\n",
       "    .dataframe thead th {\n",
       "        text-align: right;\n",
       "    }\n",
       "</style>\n",
       "<table border=\"1\" class=\"dataframe\">\n",
       "  <thead>\n",
       "    <tr style=\"text-align: right;\">\n",
       "      <th></th>\n",
       "      <th>manager_id</th>\n",
       "      <th>manager_name</th>\n",
       "      <th>nickname</th>\n",
       "      <th>dob</th>\n",
       "      <th>country_id</th>\n",
       "      <th>country</th>\n",
       "    </tr>\n",
       "  </thead>\n",
       "  <tbody>\n",
       "    <tr>\n",
       "      <th>0</th>\n",
       "      <td>1597</td>\n",
       "      <td>Diego Martínez Penas</td>\n",
       "      <td>Diego Martínez</td>\n",
       "      <td>None</td>\n",
       "      <td>214</td>\n",
       "      <td>Spain</td>\n",
       "    </tr>\n",
       "    <tr>\n",
       "      <th>0</th>\n",
       "      <td>1598</td>\n",
       "      <td>Álvaro Cervera Díaz</td>\n",
       "      <td>Álvaro Cervera</td>\n",
       "      <td>None</td>\n",
       "      <td>214</td>\n",
       "      <td>Spain</td>\n",
       "    </tr>\n",
       "    <tr>\n",
       "      <th>0</th>\n",
       "      <td>269</td>\n",
       "      <td>Marcelo Alberto Bielsa Caldera</td>\n",
       "      <td>Marcelo Bielsa</td>\n",
       "      <td>None</td>\n",
       "      <td>11</td>\n",
       "      <td>Argentina</td>\n",
       "    </tr>\n",
       "    <tr>\n",
       "      <th>0</th>\n",
       "      <td>224</td>\n",
       "      <td>Philippe Montanier</td>\n",
       "      <td>None</td>\n",
       "      <td>None</td>\n",
       "      <td>78</td>\n",
       "      <td>France</td>\n",
       "    </tr>\n",
       "    <tr>\n",
       "      <th>0</th>\n",
       "      <td>1617</td>\n",
       "      <td>José Ramón Sandoval Huertas</td>\n",
       "      <td>José Ramón Sandoval</td>\n",
       "      <td>1968-05-02</td>\n",
       "      <td>214</td>\n",
       "      <td>Spain</td>\n",
       "    </tr>\n",
       "  </tbody>\n",
       "</table>\n",
       "</div>"
      ],
      "text/plain": [
       "   manager_id                    manager_name             nickname  \\\n",
       "0        1597            Diego Martínez Penas       Diego Martínez   \n",
       "0        1598             Álvaro Cervera Díaz       Álvaro Cervera   \n",
       "0         269  Marcelo Alberto Bielsa Caldera       Marcelo Bielsa   \n",
       "0         224              Philippe Montanier                 None   \n",
       "0        1617     José Ramón Sandoval Huertas  José Ramón Sandoval   \n",
       "\n",
       "          dob  country_id    country  \n",
       "0        None         214      Spain  \n",
       "0        None         214      Spain  \n",
       "0        None          11  Argentina  \n",
       "0        None          78     France  \n",
       "0  1968-05-02         214      Spain  "
      ]
     },
     "execution_count": 6,
     "metadata": {},
     "output_type": "execute_result"
    }
   ],
   "source": [
    "man = la_liga_matches.copy() #copy the dataset\n",
    "man = man.drop(man[man[\"home_team.managers\"].isnull()].index) #drop null home managers\n",
    "man = man.drop(man[man[\"away_team.managers\"].isnull()].index) #drop null away managers\n",
    "\n",
    "managers = pd.DataFrame() #new empty dataframe\n",
    "for i in range(man.shape[0]):\n",
    "    man_details = (pd.DataFrame(man[\"home_team.managers\"].iloc[i])) #i-th record to get the manager\n",
    "    man_details = man_details.rename(columns = {'id':'manager_id', \"name\" : \"manager_name\"}) #change column names\n",
    "    man_country = pd.json_normalize(man_details.country) #read the nested json field and get the information of the country in columns\n",
    "    man_details = man_details.join(man_country) #append the new columns\n",
    "    man_details = man_details.drop(columns = [\"country\"]) #and drop the json field\n",
    "    man_details = man_details.rename(columns = {'id':'country_id', \"name\" : \"country\"}) #change country column names\n",
    "    managers = managers.append(man_details) #append the new record to the dataframe\n",
    "    \n",
    "managers = managers.drop_duplicates() #keep only the unique records (all managers have only one record)\n",
    "managers.tail()"
   ]
  },
  {
   "cell_type": "code",
   "execution_count": 7,
   "metadata": {},
   "outputs": [],
   "source": [
    "man_country = managers.groupby(\"country\").size() #get number of managers from each country\n",
    "man_country_df = pd.DataFrame(man_country) #new dataframe with country names and number of managers from this country\n",
    "man_country_df.columns = [\"number\"] #change column name\n",
    "man_country_df[\"percentage\"] = man_country_df.number / man_country_df.number.sum() #get the percentages "
   ]
  },
  {
   "cell_type": "code",
   "execution_count": 8,
   "metadata": {},
   "outputs": [
    {
     "data": {
      "image/png": "[encoded data removed]",
      "text/plain": [
       "<Figure size 720x720 with 1 Axes>"
      ]
     },
     "metadata": {},
     "output_type": "display_data"
    }
   ],
   "source": [
    "labels = man_country_df.index.values #labels = country names\n",
    "plt.rcParams[\"figure.figsize\"]=10,10\n",
    "plt.pie(man_country_df[\"percentage\"], colors = [\"khaki\", \"tomato\", \"gold\", \"red\", \"aqua\", \"coral\", \"grey\", \n",
    "                                                \"orange\", \"orchid\", \"yellow\", \"lightblue\"], \n",
    "     autopct='%1.0f%%',counterclock=False, shadow=True, pctdistance=1.1)\n",
    "plt.title(\"Managers' Nationalities\")\n",
    "my_circle = plt.Circle( (0,0), 0.7, color='white')\n",
    "plt.legend(labels, loc = 3)\n",
    "p = plt.gcf()\n",
    "p.gca().add_artist(my_circle)\n",
    "plt.show()"
   ]
  },
  {
   "cell_type": "markdown",
   "metadata": {},
   "source": [
    "As shown in the pie plot, the vast majority of the managers in the spanish championship teams are from Spain (more than 2/3). A small percentage of 12% comes from Argentina, while very small percentages come from other countries."
   ]
  },
  {
   "cell_type": "markdown",
   "metadata": {},
   "source": [
    "We want to see whether or not when a team plays in its home wins. "
   ]
  },
  {
   "cell_type": "code",
   "execution_count": 9,
   "metadata": {},
   "outputs": [
    {
     "data": {
      "image/png": "[encoded data removed]",
      "text/plain": [
       "<Figure size 720x720 with 1 Axes>"
      ]
     },
     "metadata": {},
     "output_type": "display_data"
    }
   ],
   "source": [
    "home_wins = laliga_cleaned[laliga_cleaned[\"result\"] == \"1\"].shape[0] #when home team wins\n",
    "draw = laliga_cleaned[laliga_cleaned[\"result\"] == \"x\"].shape[0] #when the result is draw\n",
    "away_wins = laliga_cleaned[laliga_cleaned[\"result\"] == \"2\"].shape[0] #when away team wins\n",
    "x = [\"Home wins\", \"Draw\", \"Away wins\"]\n",
    "total = laliga_cleaned.shape[0] #total matches\n",
    "y = [home_wins / total * 100, draw / total * 100, away_wins / total * 100] #get results percentages\n",
    "plt.rcParams[\"figure.figsize\"]=10,10\n",
    "plt.pie(y, labels = x, autopct='%1.0f%%', pctdistance=0.6, labeldistance=1.05)\n",
    "plt.title(\"Matches results\")\n",
    "my_circle = plt.Circle( (0,0), 0.7, color='white')\n",
    "p = plt.gcf()\n",
    "p.gca().add_artist(my_circle)\n",
    "plt.show()"
   ]
  },
  {
   "cell_type": "markdown",
   "metadata": {},
   "source": [
    "As we can see, almost half of the games are won by the home team. That's a good percentage in trying to predict the winner. Draw is very rare in La Liga matches, as only around 15% of the matches have not a winner. That could mean that teams play always for the win, and they do not compromise with the draw. "
   ]
  },
  {
   "cell_type": "markdown",
   "metadata": {},
   "source": [
    "Next, we want to see if there is a difference in the match results when the matches are played in the first or the second round. La Liga has 20 teams, and therefore 38 matches for each team every season. So the first and second round consist of 19 match each. "
   ]
  },
  {
   "cell_type": "code",
   "execution_count": 10,
   "metadata": {},
   "outputs": [],
   "source": [
    "first_round = laliga_cleaned[laliga_cleaned[\"match_week\"] <= 19] #first round = 1 - 19 match_week\n",
    "second_round = laliga_cleaned[laliga_cleaned[\"match_week\"] > 19] #second round = 20 - 38 match_week\n",
    "\n",
    "home_wins_first_round = first_round[first_round[\"result\"] == \"1\"].shape[0] #home wins (1st round)\n",
    "draw_first_round = first_round[first_round[\"result\"] == \"x\"].shape[0] #draw (1st round)\n",
    "away_wins_first_round = first_round[first_round[\"result\"] == \"2\"].shape[0] #away wins (1st round)\n",
    "\n",
    "home_wins_second_round = second_round[second_round[\"result\"] == \"1\"].shape[0] #home wins (2nd round)\n",
    "draw_second_round = second_round[second_round[\"result\"] == \"x\"].shape[0] #draw (2nd round)\n",
    "away_wins_second_round = second_round[second_round[\"result\"] == \"2\"].shape[0] #away wins (2nd round)\n",
    "\n",
    "wins = (home_wins_first_round * 100 / first_round.shape[0], home_wins_second_round * 100 / second_round.shape[0] )\n",
    "draw = (draw_first_round * 100 / first_round.shape[0], draw_second_round * 100 / second_round.shape[0])\n",
    "loses = (away_wins_first_round * 100 / first_round.shape[0], away_wins_second_round * 100 / second_round.shape[0] )"
   ]
  },
  {
   "cell_type": "code",
   "execution_count": 11,
   "metadata": {},
   "outputs": [
    {
     "data": {
      "image/png": "[encoded data removed]",
      "text/plain": [
       "<Figure size 720x432 with 1 Axes>"
      ]
     },
     "metadata": {
      "needs_background": "light"
     },
     "output_type": "display_data"
    }
   ],
   "source": [
    "ind = np.arange(2) #xticks\n",
    "width = 0.3 #columns width      \n",
    "plt.figure(figsize=(10,6))\n",
    "plt.bar(ind, wins, width, label='Home Wins')\n",
    "plt.bar(ind + width, draw, width, label='Draw')\n",
    "plt.bar(ind + 2 * width, loses, width, label='Home Loses')\n",
    "\n",
    "plt.ylabel(\"Result percentage\")\n",
    "plt.xlabel(\"Result\")\n",
    "plt.xticks(ind + 2 * width / 2, ('First Round', 'Second Round'))\n",
    "plt.legend(loc='best')\n",
    "plt.title(\"Matches Results - Comparison of first and second round\")\n",
    "\n",
    "plt.show()"
   ]
  },
  {
   "cell_type": "markdown",
   "metadata": {},
   "source": [
    "We can see from the plot above that in the second round teams tend to win more games when they play in home. This is because as the season comes to the end, teams have more clear goals, and the home teams with the fans support can achieve better results. The draw results seem to be the same in both rounds. "
   ]
  },
  {
   "cell_type": "markdown",
   "metadata": {},
   "source": [
    "Then, we will try to figure out the percentages of wins for Barcelona and Real Madrid for home and away games. "
   ]
  },
  {
   "cell_type": "code",
   "execution_count": 12,
   "metadata": {},
   "outputs": [
    {
     "data": {
      "text/plain": [
       "'Real Madrid wins the 33% of the home games while Barcelona wins the 84%'"
      ]
     },
     "execution_count": 12,
     "metadata": {},
     "output_type": "execute_result"
    }
   ],
   "source": [
    "barca_home = laliga_cleaned[laliga_cleaned[\"home_team_name\"] == \"Barcelona\"] #barcelona as home team\n",
    "barca_home_wins = barca_home[barca_home[\"result\"] == \"1\"] #barcelona as home team wins\n",
    "percentage_barca_wins_home = barca_home_wins.shape[0] / barca_home.shape[0] #percentage of home wins\n",
    "percentage_barca_wins_home\n",
    "\n",
    "real_home = laliga_cleaned[laliga_cleaned[\"home_team_name\"] == \"Real Madrid\"] #real as home team\n",
    "real_home_wins = real_home[real_home[\"result\"] == \"1\"] #real as home team wins\n",
    "percentage_real_wins_home = real_home_wins.shape[0] / real_home.shape[0] #percentage of home wins\n",
    "percentage_real_wins_home\n",
    "\n",
    "\"Real Madrid wins the {}% of the home games while Barcelona wins the {}%\".format(round(percentage_real_wins_home *100),round(percentage_barca_wins_home *100))"
   ]
  },
  {
   "cell_type": "code",
   "execution_count": 13,
   "metadata": {},
   "outputs": [
    {
     "data": {
      "text/plain": [
       "'Real Madrid wins the 17% of the away games while Barcelona wins the 64%'"
      ]
     },
     "execution_count": 13,
     "metadata": {},
     "output_type": "execute_result"
    }
   ],
   "source": [
    "barca_away = laliga_cleaned[laliga_cleaned[\"away_team_name\"] == \"Barcelona\"] #barcelona as away team\n",
    "barca_away_wins = barca_away[barca_away[\"result\"] == \"2\"] #barcelona as away team wins\n",
    "percentage_barca_wins_away = barca_away_wins.shape[0] / barca_away.shape[0] #percentage of away wins\n",
    "percentage_barca_wins_away\n",
    "\n",
    "real_away = laliga_cleaned[laliga_cleaned[\"away_team_name\"] == \"Real Madrid\"] #real as away team\n",
    "real_away_wins = real_away[real_away[\"result\"] == \"2\"] #real as away team wins\n",
    "percentage_real_wins_away = real_away_wins.shape[0] / real_away.shape[0] #percentage of away wins\n",
    "percentage_real_wins_away\n",
    "\n",
    "\"Real Madrid wins the {}% of the away games while Barcelona wins the {}%\".format(round(percentage_real_wins_away *100),round(percentage_barca_wins_away*100))"
   ]
  },
  {
   "cell_type": "code",
   "execution_count": 14,
   "metadata": {},
   "outputs": [
    {
     "data": {
      "image/png": "[encoded data removed]",
      "text/plain": [
       "<Figure size 720x432 with 1 Axes>"
      ]
     },
     "metadata": {
      "needs_background": "light"
     },
     "output_type": "display_data"
    }
   ],
   "source": [
    "home_res = (percentage_real_wins_home, percentage_barca_wins_home)\n",
    "away_res = (percentage_real_wins_away, percentage_barca_wins_away)\n",
    "ind = np.arange(2) #xticks\n",
    "width = 0.35 #bar width\n",
    "\n",
    "plt.figure(figsize=(10,6))\n",
    "plt.barh(ind, home_res, width, label='Home')\n",
    "plt.barh(ind + width, away_res, width, label='Away')\n",
    "plt.rcParams[\"figure.figsize\"] = (10,5)\n",
    "\n",
    "plt.xlabel(\"Wins percentage\")\n",
    "plt.ylabel(\"Team\")\n",
    "plt.yticks(ind + width / 2, ('Real Madrid', 'Barcelona'))\n",
    "plt.legend(loc='best')\n",
    "plt.title(\"Real Madrid vs Barcelona (Home and Away Wins Comparison)\")\n",
    "plt.show()"
   ]
  },
  {
   "cell_type": "markdown",
   "metadata": {},
   "source": [
    "As we can see above Barcelona wins more than 80% of their home games while Real Madrid wins only around 35% of their home games. The percentage for away wins for Real Madrid is even lower (around 15%), while Barcelona's percentage is lower but still good enough (almost than two thirds). "
   ]
  },
  {
   "cell_type": "markdown",
   "metadata": {},
   "source": [
    "Next, we will use the Barcelona vs Real Madrid head to head matches to do some analysis. We use the matches where Barcelona is the home team, as well as the matches where Real Madrid is the home team."
   ]
  },
  {
   "cell_type": "code",
   "execution_count": 15,
   "metadata": {},
   "outputs": [],
   "source": [
    "#barca real head to head\n",
    "barca_real = laliga_cleaned[(laliga_cleaned[\"home_team_name\"] == \"Barcelona\") &\n",
    "                           (laliga_cleaned[\"away_team_name\"] == \"Real Madrid\")] #barca home team\n",
    "\n",
    "real_barca = laliga_cleaned[(laliga_cleaned[\"home_team_name\"] == \"Real Madrid\") &\n",
    "                           (laliga_cleaned[\"away_team_name\"] == \"Barcelona\")] #real home team"
   ]
  },
  {
   "cell_type": "code",
   "execution_count": 16,
   "metadata": {},
   "outputs": [],
   "source": [
    "real_barca_res = real_barca.groupby([\"result\"]) #group by result\n",
    "barca_real_res = barca_real.groupby([\"result\"]) #group by result\n",
    "\n",
    "real_wins = real_barca_res.get_group(\"1\").shape[0] #how many matches Real Madrid won when they played in Bernabeu against Barcelona\n",
    "real_wins_goals = real_barca_res.get_group(\"1\").home_score.mean() #when real wins how many goals in average\n",
    "real_wins_goals_conc = real_barca_res.get_group(\"1\").away_score.mean() #when real wins how many goals barca scores\n",
    "\n",
    "real_loses = real_barca_res.get_group(\"2\").shape[0] #how many matches Real Madrid lost when they played in Bernabeu against Barcelona\n",
    "real_loses_goals = real_barca_res.get_group(\"2\").home_score.mean() #when real loses how many goals in average\n",
    "real_loses_goals_conc = real_barca_res.get_group(\"2\").away_score.mean() #when real loses how many goals barca scores"
   ]
  },
  {
   "cell_type": "code",
   "execution_count": 17,
   "metadata": {},
   "outputs": [
    {
     "data": {
      "image/png": "[encoded data removed]",
      "text/plain": [
       "<Figure size 720x432 with 1 Axes>"
      ]
     },
     "metadata": {
      "needs_background": "light"
     },
     "output_type": "display_data"
    }
   ],
   "source": [
    "real_g = (real_wins_goals, real_loses_goals) #real madrid goals\n",
    "real_gc = (real_wins_goals_conc, real_loses_goals_conc) #real madrid goals conceded\n",
    "ind = np.arange(2) \n",
    "width = 0.35       \n",
    "\n",
    "plt.figure(figsize=(10,6))\n",
    "plt.bar(ind, real_g, width, label='Real Madrid Goals')\n",
    "plt.bar(ind + width, real_gc, width, label='Barcelona Goals')\n",
    "plt.rcParams[\"figure.figsize\"] = (10,5)\n",
    "plt.ylabel(\"Average Goals\")\n",
    "plt.xlabel(\"Result\")\n",
    "plt.xticks(ind + width / 2, ('Real Madrid Wins', 'Barcelona Wins'))\n",
    "plt.legend(loc='best')\n",
    "plt.title(\"Real Madrid vs Barcelona (Goals Comparison)\")\n",
    "\n",
    "plt.show()\n"
   ]
  },
  {
   "cell_type": "markdown",
   "metadata": {},
   "source": [
    "Observing the plot above, we can see the comparison for the goals scored and conceded for both teams when they win or lose. When Real Madrid wins, they score around 2.5 goals per match, and concede around 0.5 goals. However when Barcelona wins, Real Madrid scores around 1 goal per match, however Barcelona scores more than 3 goals per match. \n",
    "\n",
    "One noticeable statistic is that in Real Madrid vs Barcelona matches, we have many goals since when Real Madrid wins in average more than 3 goals are scored, while around 4 goals are scored when Barcelona wins."
   ]
  },
  {
   "cell_type": "markdown",
   "metadata": {},
   "source": [
    "Now, we will try to export a plot that will explain the average goals Barcelona scored and conceded through all seasons."
   ]
  },
  {
   "cell_type": "code",
   "execution_count": 18,
   "metadata": {},
   "outputs": [],
   "source": [
    "#get by season to show barcelona average goals\n",
    "barca_matches_home = laliga_cleaned[(laliga_cleaned[\"home_team_name\"] == \"Barcelona\")] #barcelona as home team\n",
    "\n",
    "season_groups = barca_matches_home.groupby(\"season\") #group by season to be able to get the mean\n",
    "barca_goals_scored_home = [] #empty arrays to contain the average goals scored for each season\n",
    "barca_goals_conceded_home = [] #empty arrays to contain the average goals concede for each season\n",
    "\n",
    "seasons_names = [] #seasons names\n",
    "#create the three new arrays with seasons names and average goals scored and conceded when Barcelona played in Camp Nou\n",
    "for name, group in season_groups:\n",
    "    seasons_names.append(name)\n",
    "    barca_goals_scored_home.append(group.home_score.mean())\n",
    "    barca_goals_conceded_home.append(group.away_score.mean())    "
   ]
  },
  {
   "cell_type": "code",
   "execution_count": 19,
   "metadata": {},
   "outputs": [
    {
     "data": {
      "image/png": "[encoded data removed]",
      "text/plain": [
       "<Figure size 720x360 with 1 Axes>"
      ]
     },
     "metadata": {
      "needs_background": "light"
     },
     "output_type": "display_data"
    }
   ],
   "source": [
    "no_of_seasons = range(len(seasons_names)) #numbers from 0 to season number\n",
    "plt.plot(no_of_seasons, barca_goals_scored_home, no_of_seasons, barca_goals_conceded_home, marker = \"o\" )\n",
    "plt.legend([\"Goals Scored\", \"Goals Conceded\"])\n",
    "\n",
    "plt.rcParams[\"figure.figsize\"] = (10,5)\n",
    "plt.xticks(no_of_seasons, seasons_names, rotation = \"vertical\")\n",
    "plt.title(\"Barcelona Home Games (Goals scored and conceded)\")\n",
    "plt.xlabel(\"Season\")\n",
    "plt.ylabel(\"Average Goals\")\n",
    "plt.grid(True)\n",
    "plt.show()"
   ]
  },
  {
   "cell_type": "markdown",
   "metadata": {},
   "source": [
    "It would be interesting if we could use the above and see if Barcelona won the championship when they scored many goals and conceded less. So we will need the La Liga champions to be included in the dataset (not included). We create a new dataframe with the championship winners for each season. "
   ]
  },
  {
   "cell_type": "code",
   "execution_count": 20,
   "metadata": {},
   "outputs": [],
   "source": [
    "#get La Liga champions https://en.wikipedia.org/wiki/List_of_Spanish_football_champions\n",
    "season_champion = [\"Barcelona\", \"Barcelona\", \"Real Madrid\", \"Real Madrid\", \"Barcelona\", \"Barcelona\", \n",
    "                  \"Barcelona\", \"Real Madrid\", \"Barcelona\", \"Atlético Madrid\", \"Barcelona\",\"Barcelona\", \"Real Madrid\",\n",
    "                  \"Barcelona\", \"Barcelona\", \"Real Madrid\"]\n",
    "\n",
    "champions = pd.DataFrame() #new dataframe with seasons and champions\n",
    "champions[\"seasons\"] = seasons_names\n",
    "champions[\"winner\"] = season_champion\n",
    "\n",
    "barca_champions = champions[champions[\"winner\"] == \"Barcelona\"] #records when Barcelona was champion"
   ]
  },
  {
   "cell_type": "code",
   "execution_count": 21,
   "metadata": {},
   "outputs": [
    {
     "data": {
      "image/png": "[encoded data removed]",
      "text/plain": [
       "<Figure size 720x360 with 1 Axes>"
      ]
     },
     "metadata": {
      "needs_background": "light"
     },
     "output_type": "display_data"
    }
   ],
   "source": [
    "#this function is used to plot different markers for the seasons when Barcelona won the championship and different \n",
    "#when other team were champions\n",
    "def barca_markers(row):\n",
    "    if row[\"winner\"] != \"Barcelona\":\n",
    "        val = \"x\"\n",
    "    else:\n",
    "        val = \"*\"\n",
    "    return val\n",
    "\n",
    "markers = (champions.apply(barca_markers, axis = 1)) #call function to fill with markers\n",
    "\n",
    "no_of_seasons = range(len(seasons_names)) #numbers from 0 to season number\n",
    "plt.plot(no_of_seasons, barca_goals_scored_home, no_of_seasons, barca_goals_conceded_home, marker = \".\") #line plot\n",
    "\n",
    "for j, mi in enumerate(markers): #plot the new markers for winning the league or not\n",
    "    plt.plot(no_of_seasons[j], barca_goals_scored_home[j], marker = markers[j], color = \"green\", markersize = 12)\n",
    "    plt.plot(no_of_seasons[j], barca_goals_conceded_home[j], marker = markers[j], color = \"red\", markersize = 12)\n",
    "    \n",
    "plt.rcParams[\"figure.figsize\"] = (10,5)\n",
    "\n",
    "plt.legend([\"Goals\", \"Goals Conceded\"])\n",
    "plt.title(\"Goals when Barca was Champions (star) and when not (cross)\")\n",
    "plt.xticks(no_of_seasons, seasons_names, rotation = \"vertical\")\n",
    "plt.xlabel(\"Season\")\n",
    "plt.ylabel(\"Average Goals\")\n",
    "plt.grid(True)\n",
    "plt.show()"
   ]
  },
  {
   "cell_type": "markdown",
   "metadata": {},
   "source": [
    "Observing the plot, one can conclude to some interesting facts. In season 04/05 Barcelona did not scored many goals (around 2.5), but their good defence (around 0.25 goals per match) help them win the championship. Another interesting observation is that the most productive year for Barcelona's home games, the team did not achive to win the La Liga. They concede around 0.75 and scored around 4 goals per match, which is an amazing performance, however they did not win the championship.\n",
    "\n",
    "Furthermore, one can say that their defence was steady through the years, while the attack had some drops and raises through the last 16 years. "
   ]
  },
  {
   "cell_type": "markdown",
   "metadata": {},
   "source": [
    "Now, we will get a single season and see in how many matches Barcelona played and had a clean sheet (no goals conceded). Then we will try to see if there is a correlation between the clean sheet games and whether a specific player played in those games. "
   ]
  },
  {
   "cell_type": "code",
   "execution_count": 22,
   "metadata": {},
   "outputs": [],
   "source": [
    "barca_home_matches_12_13 = barca_home[barca_home[\"season\"] == \"2012/2013\"] #single season barca home games\n",
    "barca_home_matches_ids_12_13 = barca_home_matches_12_13.match_id #ids\n",
    "\n",
    "#function for assign true or false whether Barcelona conceded at least one goal when played in home\n",
    "def f(row):\n",
    "    if row[\"away_score\"] >= 1:\n",
    "        val = True\n",
    "    else:\n",
    "        val = False\n",
    "    return val\n",
    "\n",
    "barca_home_matches_12_13[\"conc\"] = barca_home_matches_12_13.apply(f, axis = 1) #call function"
   ]
  },
  {
   "cell_type": "code",
   "execution_count": 23,
   "metadata": {},
   "outputs": [
    {
     "data": {
      "text/html": [
       "<div>\n",
       "<style scoped>\n",
       "    .dataframe tbody tr th:only-of-type {\n",
       "        vertical-align: middle;\n",
       "    }\n",
       "\n",
       "    .dataframe tbody tr th {\n",
       "        vertical-align: top;\n",
       "    }\n",
       "\n",
       "    .dataframe thead th {\n",
       "        text-align: right;\n",
       "    }\n",
       "</style>\n",
       "<table border=\"1\" class=\"dataframe\">\n",
       "  <thead>\n",
       "    <tr style=\"text-align: right;\">\n",
       "      <th></th>\n",
       "      <th>match_id</th>\n",
       "      <th>match_date</th>\n",
       "      <th>kick_off</th>\n",
       "      <th>match_week</th>\n",
       "      <th>season</th>\n",
       "      <th>home_team_id</th>\n",
       "      <th>home_team_name</th>\n",
       "      <th>home_score</th>\n",
       "      <th>away_score</th>\n",
       "      <th>away_team_name</th>\n",
       "      <th>away_team_id</th>\n",
       "      <th>stadium_name</th>\n",
       "      <th>referee_name</th>\n",
       "      <th>result</th>\n",
       "      <th>conc</th>\n",
       "      <th>player</th>\n",
       "    </tr>\n",
       "  </thead>\n",
       "  <tbody>\n",
       "    <tr>\n",
       "      <th>243</th>\n",
       "      <td>70270</td>\n",
       "      <td>2012-09-22</td>\n",
       "      <td>22:00:00.000</td>\n",
       "      <td>5</td>\n",
       "      <td>2012/2013</td>\n",
       "      <td>217</td>\n",
       "      <td>Barcelona</td>\n",
       "      <td>2</td>\n",
       "      <td>0</td>\n",
       "      <td>Granada</td>\n",
       "      <td>1049</td>\n",
       "      <td>Camp Nou</td>\n",
       "      <td>Carlos Del Cerro</td>\n",
       "      <td>1</td>\n",
       "      <td>False</td>\n",
       "      <td>True</td>\n",
       "    </tr>\n",
       "    <tr>\n",
       "      <th>244</th>\n",
       "      <td>70281</td>\n",
       "      <td>2013-05-05</td>\n",
       "      <td>21:00:00.000</td>\n",
       "      <td>34</td>\n",
       "      <td>2012/2013</td>\n",
       "      <td>217</td>\n",
       "      <td>Barcelona</td>\n",
       "      <td>4</td>\n",
       "      <td>2</td>\n",
       "      <td>Real Betis</td>\n",
       "      <td>218</td>\n",
       "      <td>Camp Nou</td>\n",
       "      <td>Clos Gómez</td>\n",
       "      <td>1</td>\n",
       "      <td>True</td>\n",
       "      <td>False</td>\n",
       "    </tr>\n",
       "    <tr>\n",
       "      <th>245</th>\n",
       "      <td>70308</td>\n",
       "      <td>2012-11-03</td>\n",
       "      <td>18:00:00.000</td>\n",
       "      <td>10</td>\n",
       "      <td>2012/2013</td>\n",
       "      <td>217</td>\n",
       "      <td>Barcelona</td>\n",
       "      <td>3</td>\n",
       "      <td>1</td>\n",
       "      <td>Celta Vigo</td>\n",
       "      <td>209</td>\n",
       "      <td>Camp Nou</td>\n",
       "      <td>David Fernández</td>\n",
       "      <td>1</td>\n",
       "      <td>True</td>\n",
       "      <td>True</td>\n",
       "    </tr>\n",
       "    <tr>\n",
       "      <th>248</th>\n",
       "      <td>70271</td>\n",
       "      <td>2013-02-23</td>\n",
       "      <td>22:00:00.000</td>\n",
       "      <td>25</td>\n",
       "      <td>2012/2013</td>\n",
       "      <td>217</td>\n",
       "      <td>Barcelona</td>\n",
       "      <td>2</td>\n",
       "      <td>1</td>\n",
       "      <td>Sevilla</td>\n",
       "      <td>213</td>\n",
       "      <td>Camp Nou</td>\n",
       "      <td>Carlos Velasco Carballo</td>\n",
       "      <td>1</td>\n",
       "      <td>True</td>\n",
       "      <td>False</td>\n",
       "    </tr>\n",
       "    <tr>\n",
       "      <th>254</th>\n",
       "      <td>70296</td>\n",
       "      <td>2012-12-16</td>\n",
       "      <td>21:00:00.000</td>\n",
       "      <td>16</td>\n",
       "      <td>2012/2013</td>\n",
       "      <td>217</td>\n",
       "      <td>Barcelona</td>\n",
       "      <td>4</td>\n",
       "      <td>1</td>\n",
       "      <td>Atlético Madrid</td>\n",
       "      <td>212</td>\n",
       "      <td>Camp Nou</td>\n",
       "      <td>Miguel Pérez</td>\n",
       "      <td>1</td>\n",
       "      <td>True</td>\n",
       "      <td>False</td>\n",
       "    </tr>\n",
       "  </tbody>\n",
       "</table>\n",
       "</div>"
      ],
      "text/plain": [
       "     match_id  match_date      kick_off  match_week     season  home_team_id  \\\n",
       "243     70270  2012-09-22  22:00:00.000           5  2012/2013           217   \n",
       "244     70281  2013-05-05  21:00:00.000          34  2012/2013           217   \n",
       "245     70308  2012-11-03  18:00:00.000          10  2012/2013           217   \n",
       "248     70271  2013-02-23  22:00:00.000          25  2012/2013           217   \n",
       "254     70296  2012-12-16  21:00:00.000          16  2012/2013           217   \n",
       "\n",
       "    home_team_name  home_score  away_score   away_team_name  away_team_id  \\\n",
       "243      Barcelona           2           0          Granada          1049   \n",
       "244      Barcelona           4           2       Real Betis           218   \n",
       "245      Barcelona           3           1       Celta Vigo           209   \n",
       "248      Barcelona           2           1          Sevilla           213   \n",
       "254      Barcelona           4           1  Atlético Madrid           212   \n",
       "\n",
       "    stadium_name             referee_name result   conc  player  \n",
       "243     Camp Nou         Carlos Del Cerro      1  False    True  \n",
       "244     Camp Nou               Clos Gómez      1   True   False  \n",
       "245     Camp Nou          David Fernández      1   True    True  \n",
       "248     Camp Nou  Carlos Velasco Carballo      1   True   False  \n",
       "254     Camp Nou             Miguel Pérez      1   True   False  "
      ]
     },
     "execution_count": 23,
     "metadata": {},
     "output_type": "execute_result"
    }
   ],
   "source": [
    "#print(all_files)\n",
    "match_p = pd.DataFrame() #dataframe with barca home matches players\n",
    "player_played = [] #if a certain player played in match\n",
    "\n",
    "for match in barca_home_matches_ids_12_13: #for all matches in season 12/13\n",
    "    path = \"./data/lineups/{}.json\".format(match) #path to file\n",
    "    with open(path) as f:\n",
    "        a = json.load(f) #read file \n",
    "        norm = pd.json_normalize(a, \"lineup\") #get the nested data (lineup)\n",
    "        if \"Cesc Fàbregas\" in norm.player_nickname.values: #if Cesc Fabregas played in the certain game\n",
    "            player_played.append(True) #if yes assign the boolean value True\n",
    "        else:\n",
    "            player_played.append(False) #if not assign the boolean value False\n",
    "\n",
    "        norm[\"match_id\"] = match #save match_id\n",
    "        match_p = match_p.append(norm) #append the lineups for Barcelona home games\n",
    "\n",
    "barca_home_matches_12_13[\"player\"] = player_played #append the new column with played matches by Cesc\n",
    "barca_home_matches_12_13.head()"
   ]
  },
  {
   "cell_type": "markdown",
   "metadata": {},
   "source": [
    "Now, we want to see if there is a correalation between Cesc playing and away score is not 0. "
   ]
  },
  {
   "cell_type": "code",
   "execution_count": 24,
   "metadata": {},
   "outputs": [
    {
     "name": "stdout",
     "output_type": "stream",
     "text": [
      "Correlation coefficient between Cesc playing and not clean sheets: -0.36\n"
     ]
    }
   ],
   "source": [
    "cor = round(np.corrcoef(barca_home_matches_12_13[\"conc\"], barca_home_matches_12_13[\"player\"])[0,1],2) #correalation coefficient\n",
    "print(\"Correlation coefficient between Cesc playing and not clean sheets: {}\".format(cor))"
   ]
  },
  {
   "cell_type": "markdown",
   "metadata": {},
   "source": [
    "The correlation coefficient is not strong, however there is a small evidence that when Cesc does not play, Barcelona's defence is not that good."
   ]
  },
  {
   "cell_type": "markdown",
   "metadata": {},
   "source": [
    "Last, we will examine if the two Barca vs Real madrid matches during the season can predict the champion."
   ]
  },
  {
   "cell_type": "code",
   "execution_count": 25,
   "metadata": {},
   "outputs": [],
   "source": [
    "#fill new arrays with zeros\n",
    "size = champions.shape[0] \n",
    "real_w = np.zeros(size) \n",
    "barca_w = np.zeros(size)\n",
    "draw= np.zeros(size)\n",
    "\n",
    "barca_real = laliga_cleaned[(laliga_cleaned[\"home_team_name\"] == \"Barcelona\") &\n",
    "                           (laliga_cleaned[\"away_team_name\"] == \"Real Madrid\")] #Barcelona as home team and Real Madrid as away team\n",
    "real_barca = laliga_cleaned[(laliga_cleaned[\"home_team_name\"] == \"Real Madrid\") &\n",
    "                           (laliga_cleaned[\"away_team_name\"] == \"Barcelona\")] #Barcelona as away team and Real Madrid as home team\n",
    "\n",
    "barca_real_seasons = barca_real.groupby(\"season\") #group by season\n",
    "i = 0 #counter\n",
    "\n",
    "#for each season count the results\n",
    "for name, group in barca_real_seasons:\n",
    "    if (pd.DataFrame(barca_real_seasons.get_group(name)).iloc[0].result == \"1\"):\n",
    "        barca_w[i] += 1 #increase Barcelona's wins in this certain year (Barcelona home team)\n",
    "    elif (pd.DataFrame(barca_real_seasons.get_group(name)).iloc[0].result == \"2\"):\n",
    "        real_w[i] += 1 #increase Real Madrid's wins in this certain year (Barcelona home team)\n",
    "    else:\n",
    "        draw[i] += 1 #increase draws in this certain year\n",
    "    i += 1\n",
    "\n",
    "#do the same for Real Madrid home team\n",
    "real_barca_seasons = real_barca.groupby(\"season\")\n",
    "i = 0\n",
    "for name, group in real_barca_seasons:\n",
    "    if (pd.DataFrame(real_barca_seasons.get_group(name)).iloc[0].result == \"2\"):\n",
    "        barca_w[i] += 1\n",
    "    elif (pd.DataFrame(real_barca_seasons.get_group(name)).iloc[0].result == \"1\"):\n",
    "        real_w[i] += 1\n",
    "    else:\n",
    "        draw[i] += 1\n",
    "    i += 1"
   ]
  },
  {
   "cell_type": "code",
   "execution_count": 26,
   "metadata": {},
   "outputs": [
    {
     "data": {
      "text/html": [
       "<div>\n",
       "<style scoped>\n",
       "    .dataframe tbody tr th:only-of-type {\n",
       "        vertical-align: middle;\n",
       "    }\n",
       "\n",
       "    .dataframe tbody tr th {\n",
       "        vertical-align: top;\n",
       "    }\n",
       "\n",
       "    .dataframe thead th {\n",
       "        text-align: right;\n",
       "    }\n",
       "</style>\n",
       "<table border=\"1\" class=\"dataframe\">\n",
       "  <thead>\n",
       "    <tr style=\"text-align: right;\">\n",
       "      <th></th>\n",
       "      <th>seasons</th>\n",
       "      <th>winner</th>\n",
       "      <th>barca_w</th>\n",
       "      <th>real_w</th>\n",
       "      <th>draw</th>\n",
       "      <th>barca_champion</th>\n",
       "    </tr>\n",
       "  </thead>\n",
       "  <tbody>\n",
       "    <tr>\n",
       "      <th>0</th>\n",
       "      <td>2004/2005</td>\n",
       "      <td>Barcelona</td>\n",
       "      <td>1</td>\n",
       "      <td>0</td>\n",
       "      <td>1</td>\n",
       "      <td>1</td>\n",
       "    </tr>\n",
       "    <tr>\n",
       "      <th>1</th>\n",
       "      <td>2005/2006</td>\n",
       "      <td>Barcelona</td>\n",
       "      <td>1</td>\n",
       "      <td>1</td>\n",
       "      <td>0</td>\n",
       "      <td>1</td>\n",
       "    </tr>\n",
       "    <tr>\n",
       "      <th>2</th>\n",
       "      <td>2006/2007</td>\n",
       "      <td>Real Madrid</td>\n",
       "      <td>1</td>\n",
       "      <td>1</td>\n",
       "      <td>0</td>\n",
       "      <td>0</td>\n",
       "    </tr>\n",
       "    <tr>\n",
       "      <th>3</th>\n",
       "      <td>2007/2008</td>\n",
       "      <td>Real Madrid</td>\n",
       "      <td>2</td>\n",
       "      <td>0</td>\n",
       "      <td>0</td>\n",
       "      <td>0</td>\n",
       "    </tr>\n",
       "    <tr>\n",
       "      <th>4</th>\n",
       "      <td>2008/2009</td>\n",
       "      <td>Barcelona</td>\n",
       "      <td>1</td>\n",
       "      <td>1</td>\n",
       "      <td>0</td>\n",
       "      <td>1</td>\n",
       "    </tr>\n",
       "  </tbody>\n",
       "</table>\n",
       "</div>"
      ],
      "text/plain": [
       "     seasons       winner  barca_w  real_w  draw  barca_champion\n",
       "0  2004/2005    Barcelona        1       0     1               1\n",
       "1  2005/2006    Barcelona        1       1     0               1\n",
       "2  2006/2007  Real Madrid        1       1     0               0\n",
       "3  2007/2008  Real Madrid        2       0     0               0\n",
       "4  2008/2009    Barcelona        1       1     0               1"
      ]
     },
     "execution_count": 26,
     "metadata": {},
     "output_type": "execute_result"
    }
   ],
   "source": [
    "champions_head2head = champions.copy() #copy the champions dataframe to add more columns\n",
    "champions_head2head[\"barca_w\"] = barca_w.astype(int) #add column with number of Barcelona wins in this season to dataframe\n",
    "champions_head2head[\"real_w\"] = real_w.astype(int) #add column with number of Real wins in this season to dataframe\n",
    "champions_head2head[\"draw\"] = draw.astype(int)  #add column with number of draws in this season to dataframe\n",
    "\n",
    "#function to give the seasons that Barcelona were champions\n",
    "def barca_champion(row):\n",
    "    if row[\"winner\"] == \"Barcelona\":\n",
    "        val = 1\n",
    "    else:\n",
    "        val = 0\n",
    "    return val\n",
    "\n",
    "champions_head2head[\"barca_champion\"] = champions_head2head.apply(barca_champion, axis = 1) #call function\n",
    "champions_head2head.head()"
   ]
  },
  {
   "cell_type": "markdown",
   "metadata": {},
   "source": [
    "Now that we have the data needed to predict the champion we will split the dataset in train and test set, and then fit a logistic regression model and make predicitons. "
   ]
  },
  {
   "cell_type": "code",
   "execution_count": 27,
   "metadata": {},
   "outputs": [],
   "source": [
    "from sklearn.model_selection import train_test_split\n",
    "\n",
    "train, test = train_test_split(champions_head2head, test_size=0.25, random_state = 100 ) #split dataset\n",
    "train_y = train[\"barca_champion\"] \n",
    "train_x = train[[\"barca_w\", \"real_w\", \"draw\"]]\n",
    "\n",
    "test_y = test[\"barca_champion\"]\n",
    "test_x = test[[\"barca_w\", \"real_w\", \"draw\"]]"
   ]
  },
  {
   "cell_type": "code",
   "execution_count": 28,
   "metadata": {},
   "outputs": [
    {
     "data": {
      "text/plain": [
       "<sklearn.metrics._plot.confusion_matrix.ConfusionMatrixDisplay at 0x10ed9f160>"
      ]
     },
     "execution_count": 28,
     "metadata": {},
     "output_type": "execute_result"
    },
    {
     "data": {
      "image/png": "[encoded data removed]",
      "text/plain": [
       "<Figure size 432x216 with 2 Axes>"
      ]
     },
     "metadata": {
      "needs_background": "light"
     },
     "output_type": "display_data"
    }
   ],
   "source": [
    "from sklearn.linear_model import LogisticRegression\n",
    "from sklearn.metrics import confusion_matrix\n",
    "from sklearn.metrics import plot_confusion_matrix\n",
    "\n",
    "clf = LogisticRegression(random_state=0).fit(train_x, train_y) #fit logistic regression model\n",
    "y_pred = clf.predict(test_x) #predict the test set\n",
    "#confusion_matrix(test_y, y_pred) #confusion matrix\n",
    "plt.rcParams[\"figure.figsize\"] = (6,3)\n",
    "plot_confusion_matrix(clf, test_x, test_y) #plot confusion matrix\n"
   ]
  },
  {
   "cell_type": "markdown",
   "metadata": {},
   "source": [
    "Observing the confusion matrix we can see that 2 out of the four times the model made a correct prediction and Barcelona won the championship. One time the model predicted that Barcelona would win the league but they did not, and one time the model predicted that Barcelona would not win the La Liga, but they did."
   ]
  }
 ],
 "metadata": {
  "kernelspec": {
   "display_name": "Python 3",
   "language": "python",
   "name": "python3"
  },
  "language_info": {
   "codemirror_mode": {
    "name": "ipython",
    "version": 3
   },
   "file_extension": ".py",
   "mimetype": "text/x-python",
   "name": "python",
   "nbconvert_exporter": "python",
   "pygments_lexer": "ipython3",
   "version": "3.7.3"
  }
 },
 "nbformat": 4,
 "nbformat_minor": 2
}
